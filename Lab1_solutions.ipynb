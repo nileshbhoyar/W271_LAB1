{
 "cells": [
  {
   "cell_type": "markdown",
   "metadata": {
    "collapsed": true
   },
   "source": [
    "Question 7 \n",
    "\n",
    "Answers:\n",
    "\n",
    "1. The null hypothesis is that there was no change in average liquor consumption. State\n",
    "this formally in terms of m.\n",
    "\n",
    "Ans:\n",
    "\n",
    "Null Hypothesis is that there is no change in liquor consumption.\n",
    "$$H_0 : \\mu = 0$$\n",
    "\n",
    "\n",
    "2. The alternative is that there was a decline in liquor consumption; state the alternative\n",
    "in terms of m.\n",
    "\n",
    "Ans:\n",
    "$$H_1 : \\mu < 0$$\n",
    "\n",
    "3. Now, suppose your sample size is n  900 and you obtain the estimates y  32.8\n",
    "and s  466.4. Calculate the t statistic for testing H0 against H1; obtain the p-value for the test. (Because of the large sample size, just use the standard normal distribution tabulated in Table G.1.) Do you reject H0 at the 5% level? At the 1% level?\n",
    "\n",
    "Answer: This is an example of large sample Test for Population Mean. It is one tailed test where test statistics is give by\n",
    "\n",
    "$$ T.S. = z-score= \\sqrt(n)*\\frac { \\bar(y) - \\mu_0 }{s}$$\n",
    "\n",
    "Now s = 466.4 and n = 900 \n",
    "\n",
    "So $$ \\frac {s}{\\sqrt(n)} = 466.4/30 = 15.55$$\n",
    "\n",
    "Due to sample size , we assume standard normal distribution so $$\\mu = 0 $$\n",
    "\n",
    "and $$T.S. = 30 * \\frac{ \\bar(y) - 0}{466.4}$$.\n",
    "\n",
    "   \n",
    "     $$T.S. = 30 * \\frac{ -32.8 - 0}{466.4}$$\n",
    "    \n",
    "    \n",
    "    $$T.S = -2.11$$\n",
    "\n",
    "P(Z<= -2.11)  = 0.0174\n",
    "\n",
    "Now P value is greate than 0.05 so we will reject the Null for this.\n",
    "\n",
    "But when compared to 1% i.e. value 0.01 , it's slightly more so we can not reject NULL here.\n",
    "\n",
    "\n",
    "4. Would you say that the estimated fall in consumption is large in magnitude? Com- ment on the practical versus statistical significance of this estimate.\n",
    "\n",
    "Answer:\n",
    "\n",
    "5.What has been implicitly assumed in your analysis about other determinants of liquor consumption over the two-year period in order to infer causality from the tax change to liquor consumption?\n",
    "\n",
    "Annswer: Other social-economic factors such as divorce rate/premature deaths/layoff's ( which shows correlation to one's alcohol consumption) are constant across 2 years.\n"
   ]
  },
  {
   "cell_type": "markdown",
   "metadata": {},
   "source": []
  },
  {
   "cell_type": "markdown",
   "metadata": {},
   "source": [
    "Question 8\n",
    "\n",
    "1.Estimate $$\\theta$$ for Mark Price.\n",
    "\n",
    "Answer: $$\\theta = \\bar(Y) = \\frac{{FGM}}{FGA}$$\n",
    "                                 $$ = \\frac{{188}}{429}$$\n",
    "                                 $$ =0.4382$$\n",
    "2. Find the standard deviation of the estimator Y in terms of theta and the number of shot\n",
    "attempts, n.\n",
    "\n",
    "Answer: Here , we have an estimator as sample proportion. i.e. FGM/FGA\n",
    "Quesitons is asking us to determine the standard deviation of sampling distribution of sample proportions whic is given\n",
    "by $$\\sqrt(\\frac{{p(1-p)}}{n})$$\n",
    "\n",
    "\n",
    "\n",
    "\n",
    "\n",
    "where p = mean of sample proportion and in this case $$\\theta$$\n",
    "\n",
    "\n",
    "\n",
    "3. Answer:\n",
    "\n",
    "  $$T.S = Z= (Y − 0.5)/\\sqrt(y(1−y)/n)$$\n",
    "  \n",
    "  $$T.S = Z= (0.4382– 0.5)/\\sqrt(0.438(1−0.438)/429)$$\n",
    "  \n",
    "  $$T.S.\\approx  –2.583 $$\n",
    "  \n",
    "  Now P-value for 0.05 is -1.645 so NULL is rejected for 5%\n",
    "  Where as P-value for 0.01 is –2.326 so can be rejected here as well.\n",
    "        \n",
    "    \n"
   ]
  },
  {
   "cell_type": "code",
   "execution_count": null,
   "metadata": {
    "collapsed": true
   },
   "outputs": [],
   "source": []
  }
 ],
 "metadata": {
  "kernelspec": {
   "display_name": "Python 2",
   "language": "python",
   "name": "python2"
  },
  "language_info": {
   "codemirror_mode": {
    "name": "ipython",
    "version": 2
   },
   "file_extension": ".py",
   "mimetype": "text/x-python",
   "name": "python",
   "nbconvert_exporter": "python",
   "pygments_lexer": "ipython2",
   "version": "2.7.11"
  }
 },
 "nbformat": 4,
 "nbformat_minor": 0
}
