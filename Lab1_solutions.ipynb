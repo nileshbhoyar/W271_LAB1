{
 "cells": [
  {
   "cell_type": "markdown",
   "metadata": {
    "collapsed": true
   },
   "source": [
    "Question 7 \n",
    "\n",
    "Answers:\n",
    "\n",
    "1. The null hypothesis is that there was no change in average liquor consumption. State\n",
    "this formally in terms of m.\n",
    "\n",
    "Ans:\n",
    "\n",
    "Null Hypothesis is that there is no change in liquor consumption.\n",
    "$$H_0 : \\mu = 0$$\n",
    "\n",
    "\n",
    "2. The alternative is that there was a decline in liquor consumption; state the alternative\n",
    "in terms of m.\n",
    "\n",
    "Ans:\n",
    "$$H_1 : \\mu < 0$$\n",
    "\n",
    "3."
   ]
  },
  {
   "cell_type": "code",
   "execution_count": null,
   "metadata": {
    "collapsed": true
   },
   "outputs": [],
   "source": []
  }
 ],
 "metadata": {
  "kernelspec": {
   "display_name": "Python 2",
   "language": "python",
   "name": "python2"
  },
  "language_info": {
   "codemirror_mode": {
    "name": "ipython",
    "version": 2
   },
   "file_extension": ".py",
   "mimetype": "text/x-python",
   "name": "python",
   "nbconvert_exporter": "python",
   "pygments_lexer": "ipython2",
   "version": "2.7.11"
  }
 },
 "nbformat": 4,
 "nbformat_minor": 0
}
